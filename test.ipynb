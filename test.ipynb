{
 "cells": [
  {
   "cell_type": "code",
   "execution_count": 1,
   "source": [
    "!jupyter nbextension enable --py widgetsnbextension"
   ],
   "outputs": [
    {
     "output_type": "stream",
     "name": "stdout",
     "text": [
      "Enabling notebook extension jupyter-js-widgets/extension...\n",
      "      - Validating: \u001b[32mOK\u001b[0m\n"
     ]
    }
   ],
   "metadata": {}
  },
  {
   "cell_type": "code",
   "execution_count": 2,
   "source": [
    "from src.climate_learn.utils.datetime import Year, Days, Hours\n",
    "from src.climate_learn.data import IterDataModule\n",
    "\n",
    "forecast_data_module = IterDataModule(\n",
    "    task = \"forecasting\",\n",
    "    inp_root_dir =\"/data0/datasets/weatherbench/data/weatherbench/era5/5.625deg_npz/\",\n",
    "    out_root_dir=\"/data0/datasets/weatherbench/data/weatherbench/era5/5.625deg_npz/\",\n",
    "    in_vars = [\n",
    "        \"2m_temperature\",\n",
    "        \"10m_u_component_of_wind\",\n",
    "        \"10m_v_component_of_wind\",\n",
    "        \"geopotential_500\",\n",
    "        \"temperature_850\"\n",
    "    ],\n",
    "    out_vars = [\"2m_temperature\"],\n",
    "    pred_range = Days(3),\n",
    "    subsample = Hours(6),\n",
    "    batch_size = 128,\n",
    "    num_workers = 1\n",
    ")"
   ],
   "outputs": [],
   "metadata": {}
  },
  {
   "cell_type": "code",
   "execution_count": 3,
   "source": [
    "from src.climate_learn.models import load_model\n",
    "\n",
    "forecast_model_kwargs = {\n",
    "    \"in_channels\": len(forecast_data_module.hparams.in_vars),\n",
    "    \"out_channels\": len(forecast_data_module.hparams.out_vars),\n",
    "    \"n_blocks\": 28\n",
    "}\n",
    "\n",
    "forecast_optim_kwargs = {\n",
    "    \"lr\": 1e-4,\n",
    "    \"weight_decay\": 1e-5,\n",
    "    \"warmup_epochs\": 0,\n",
    "    \"max_epochs\": 1,\n",
    "}\n",
    "\n",
    "forecast_model_module = load_model(name = \"resnet\", task = \"forecasting\", model_kwargs = forecast_model_kwargs, optim_kwargs = forecast_optim_kwargs)"
   ],
   "outputs": [
    {
     "output_type": "stream",
     "name": "stderr",
     "text": [
      "/home/tungnd/climate-learn/src/climate_learn/models/components/resnet.py:182: SyntaxWarning: \"is not\" with a literal. Did you mean \"!=\"?\n",
      "  if self.prob_type is not \"categorical\":\n",
      "/home/tungnd/climate-learn/src/climate_learn/models/components/resnet.py:288: SyntaxWarning: \"is not\" with a literal. Did you mean \"!=\"?\n",
      "  if self.prob_type is not \"categorical\":\n"
     ]
    }
   ],
   "metadata": {}
  },
  {
   "cell_type": "code",
   "execution_count": 4,
   "source": [
    "from src.climate_learn.models import set_climatology\n",
    "set_climatology(forecast_model_module, forecast_data_module)"
   ],
   "outputs": [],
   "metadata": {}
  },
  {
   "cell_type": "code",
   "execution_count": 5,
   "source": [
    "from src.climate_learn.training import Trainer, WandbLogger\n",
    "\n",
    "forecast_trainer = Trainer(\n",
    "    seed = 0,\n",
    "    accelerator = \"gpu\",\n",
    "    devices=[7],\n",
    "    precision = 16,\n",
    "    max_epochs = 1,\n",
    "    # logger = WandbLogger(project = \"climate_tutorial\", name = \"forecast-vit\")\n",
    ")"
   ],
   "outputs": [
    {
     "output_type": "stream",
     "name": "stderr",
     "text": [
      "Global seed set to 0\n"
     ]
    }
   ],
   "metadata": {}
  },
  {
   "cell_type": "code",
   "execution_count": 8,
   "source": [
    "forecast_trainer.fit(forecast_model_module, forecast_data_module)"
   ],
   "outputs": [
    {
     "output_type": "display_data",
     "data": {
      "text/plain": [
       "\r\u001b[2K"
      ],
      "text/html": [
       "<pre style=\"white-space:pre;overflow-x:auto;line-height:normal;font-family:Menlo,'DejaVu Sans Mono',consolas,'Courier New',monospace\"></pre>\n"
      ]
     },
     "metadata": {}
    },
    {
     "output_type": "display_data",
     "data": {
      "text/plain": [
       "\r\u001b[2K/home/tungnd/miniconda3/envs/climate/lib/python3.10/site-packages/pytorch_lightning/trainer/connectors/data_connect\n",
       "or.py:224: PossibleUserWarning: The dataloader, train_dataloader, does not have many workers which may be a \n",
       "bottleneck. Consider increasing the value of the `num_workers` argument` (try 64 which is the number of cpus on \n",
       "this machine) in the `DataLoader` init to improve performance.\n",
       "  rank_zero_warn(\n"
      ],
      "text/html": [
       "<pre style=\"white-space:pre;overflow-x:auto;line-height:normal;font-family:Menlo,'DejaVu Sans Mono',consolas,'Courier New',monospace\">\r\u001b[2K/home/tungnd/miniconda3/envs/climate/lib/python3.10/site-packages/pytorch_lightning/trainer/connectors/data_connect\n",
       "or.py:224: PossibleUserWarning: The dataloader, train_dataloader, does not have many workers which may be a \n",
       "bottleneck. Consider increasing the value of the `num_workers` argument` (try 64 which is the number of cpus on \n",
       "this machine) in the `DataLoader` init to improve performance.\n",
       "  rank_zero_warn(\n",
       "</pre>\n"
      ]
     },
     "metadata": {}
    },
    {
     "output_type": "display_data",
     "data": {
      "text/plain": [
       "\n",
       "\u001b[?25h"
      ],
      "text/html": [
       "<pre style=\"white-space:pre;overflow-x:auto;line-height:normal;font-family:Menlo,'DejaVu Sans Mono',consolas,'Courier New',monospace\">\n",
       "</pre>\n"
      ]
     },
     "metadata": {}
    }
   ],
   "metadata": {}
  },
  {
   "cell_type": "code",
   "execution_count": 9,
   "source": [
    "forecast_trainer.test(forecast_model_module, forecast_data_module)"
   ],
   "outputs": [
    {
     "output_type": "stream",
     "name": "stderr",
     "text": [
      "/home/tungnd/miniconda3/envs/climate/lib/python3.10/site-packages/pytorch_lightning/trainer/connectors/data_connector.py:224: PossibleUserWarning: The dataloader, test_dataloader 0, does not have many workers which may be a bottleneck. Consider increasing the value of the `num_workers` argument` (try 64 which is the number of cpus on this machine) in the `DataLoader` init to improve performance.\n",
      "  rank_zero_warn(\n"
     ]
    },
    {
     "output_type": "display_data",
     "data": {
      "text/plain": [
       "\u001b[?25l"
      ],
      "text/html": [
       "<pre style=\"white-space:pre;overflow-x:auto;line-height:normal;font-family:Menlo,'DejaVu Sans Mono',consolas,'Courier New',monospace\"></pre>\n"
      ]
     },
     "metadata": {}
    },
    {
     "output_type": "display_data",
     "data": {
      "text/plain": [
       "Output()"
      ],
      "application/vnd.jupyter.widget-view+json": {
       "version_major": 2,
       "version_minor": 0,
       "model_id": "cb756e7e371a4165b6c1fb97635ab832"
      }
     },
     "metadata": {}
    },
    {
     "output_type": "display_data",
     "data": {
      "text/plain": [
       "\r\u001b[2K┏━━━━━━━━━━━━━━━━━━━━━━━━━━━━━━━━━━━━━━━━━━━━━━━━━━━━━━━┳━━━━━━━━━━━━━━━━━━━━━━━━━━━━━━━━━━━━━━━━━━━━━━━━━━━━━━━┓\n",
       "┃\u001b[1m \u001b[0m\u001b[1m                     Test metric                     \u001b[0m\u001b[1m \u001b[0m┃\u001b[1m \u001b[0m\u001b[1m                    DataLoader 0                     \u001b[0m\u001b[1m \u001b[0m┃\n",
       "┡━━━━━━━━━━━━━━━━━━━━━━━━━━━━━━━━━━━━━━━━━━━━━━━━━━━━━━━╇━━━━━━━━━━━━━━━━━━━━━━━━━━━━━━━━━━━━━━━━━━━━━━━━━━━━━━━┩\n",
       "│\u001b[36m \u001b[0m\u001b[36m            test/acc_2m_temperature_day_3            \u001b[0m\u001b[36m \u001b[0m│\u001b[35m \u001b[0m\u001b[35m                 0.8839677017374065                  \u001b[0m\u001b[35m \u001b[0m│\n",
       "│\u001b[36m \u001b[0m\u001b[36m          test/w_rmse_2m_temperature_day_3           \u001b[0m\u001b[36m \u001b[0m│\u001b[35m \u001b[0m\u001b[35m                  2.415429047207874                  \u001b[0m\u001b[35m \u001b[0m│\n",
       "│\u001b[36m \u001b[0m\u001b[36mtest_climatology_baseline/w_rmse_2m_temperature_day_3\u001b[0m\u001b[36m \u001b[0m│\u001b[35m \u001b[0m\u001b[35m                   5.8667536665279                   \u001b[0m\u001b[35m \u001b[0m│\n",
       "│\u001b[36m \u001b[0m\u001b[36mtest_persistence_baseline/w_rmse_2m_temperature_day_3\u001b[0m\u001b[36m \u001b[0m│\u001b[35m \u001b[0m\u001b[35m                 3.4782374083237286                  \u001b[0m\u001b[35m \u001b[0m│\n",
       "└───────────────────────────────────────────────────────┴───────────────────────────────────────────────────────┘\n",
       "\u001b[37mTesting\u001b[0m \u001b[38;2;71;40;115m━\u001b[0m\u001b[38;2;78;32;141m━\u001b[0m\u001b[38;2;84;23;166m━\u001b[0m\u001b[38;2;89;16;189m━\u001b[0m\u001b[38;2;94;10;208m━\u001b[0m\u001b[38;2;97;7;219m━\u001b[0m\u001b[38;2;98;6;224m━\u001b[0m\u001b[38;2;97;7;219m━\u001b[0m\u001b[38;2;94;10;208m━\u001b[0m\u001b[38;2;89;16;189m━\u001b[0m\u001b[38;2;84;23;166m━\u001b[0m\u001b[38;2;78;31;141m━\u001b[0m\u001b[38;2;71;40;115m━\u001b[0m\u001b[38;2;66;47;92m━\u001b[0m\u001b[38;2;61;53;73m━\u001b[0m\u001b[38;2;58;56;62m━\u001b[0m\u001b[38;2;58;58;58m━\u001b[0m\u001b[38;2;58;56;62m━\u001b[0m\u001b[38;2;61;53;73m━\u001b[0m\u001b[38;2;66;47;92m━\u001b[0m\u001b[38;2;71;40;115m━\u001b[0m\u001b[38;2;78;32;141m━\u001b[0m\u001b[38;2;84;23;166m━\u001b[0m\u001b[38;2;89;16;189m━\u001b[0m\u001b[38;2;94;10;208m━\u001b[0m\u001b[38;2;97;7;219m━\u001b[0m\u001b[38;2;98;6;224m━\u001b[0m\u001b[38;2;97;7;219m━\u001b[0m\u001b[38;2;94;10;208m━\u001b[0m\u001b[38;2;89;16;189m━\u001b[0m\u001b[38;2;84;23;166m━\u001b[0m\u001b[38;2;78;31;141m━\u001b[0m\u001b[38;2;71;40;115m━\u001b[0m\u001b[38;2;66;47;92m━\u001b[0m\u001b[38;2;61;53;73m━\u001b[0m\u001b[38;2;58;56;62m━\u001b[0m\u001b[38;2;58;58;58m━\u001b[0m\u001b[38;2;58;56;62m━\u001b[0m\u001b[38;2;61;53;73m━\u001b[0m\u001b[38;2;66;47;92m━\u001b[0m \u001b[37m119/--\u001b[0m \u001b[38;5;245m0:00:25 • -:--:--\u001b[0m \u001b[38;5;249m4.74it/s\u001b[0m  "
      ],
      "text/html": [
       "<pre style=\"white-space:pre;overflow-x:auto;line-height:normal;font-family:Menlo,'DejaVu Sans Mono',consolas,'Courier New',monospace\">┏━━━━━━━━━━━━━━━━━━━━━━━━━━━━━━━━━━━━━━━━━━━━━━━━━━━━━━━┳━━━━━━━━━━━━━━━━━━━━━━━━━━━━━━━━━━━━━━━━━━━━━━━━━━━━━━━┓\n",
       "┃<span style=\"font-weight: bold\">                      Test metric                      </span>┃<span style=\"font-weight: bold\">                     DataLoader 0                      </span>┃\n",
       "┡━━━━━━━━━━━━━━━━━━━━━━━━━━━━━━━━━━━━━━━━━━━━━━━━━━━━━━━╇━━━━━━━━━━━━━━━━━━━━━━━━━━━━━━━━━━━━━━━━━━━━━━━━━━━━━━━┩\n",
       "│<span style=\"color: #008080; text-decoration-color: #008080\">             test/acc_2m_temperature_day_3             </span>│<span style=\"color: #800080; text-decoration-color: #800080\">                  0.8839677017374065                   </span>│\n",
       "│<span style=\"color: #008080; text-decoration-color: #008080\">           test/w_rmse_2m_temperature_day_3            </span>│<span style=\"color: #800080; text-decoration-color: #800080\">                   2.415429047207874                   </span>│\n",
       "│<span style=\"color: #008080; text-decoration-color: #008080\"> test_climatology_baseline/w_rmse_2m_temperature_day_3 </span>│<span style=\"color: #800080; text-decoration-color: #800080\">                    5.8667536665279                    </span>│\n",
       "│<span style=\"color: #008080; text-decoration-color: #008080\"> test_persistence_baseline/w_rmse_2m_temperature_day_3 </span>│<span style=\"color: #800080; text-decoration-color: #800080\">                  3.4782374083237286                   </span>│\n",
       "└───────────────────────────────────────────────────────┴───────────────────────────────────────────────────────┘\n",
       "<span style=\"color: #c0c0c0; text-decoration-color: #c0c0c0\">Testing</span> <span style=\"color: #472873; text-decoration-color: #472873\">━</span><span style=\"color: #4e208d; text-decoration-color: #4e208d\">━</span><span style=\"color: #5417a6; text-decoration-color: #5417a6\">━</span><span style=\"color: #5910bd; text-decoration-color: #5910bd\">━</span><span style=\"color: #5e0ad0; text-decoration-color: #5e0ad0\">━</span><span style=\"color: #6107db; text-decoration-color: #6107db\">━</span><span style=\"color: #6206e0; text-decoration-color: #6206e0\">━</span><span style=\"color: #6107db; text-decoration-color: #6107db\">━</span><span style=\"color: #5e0ad0; text-decoration-color: #5e0ad0\">━</span><span style=\"color: #5910bd; text-decoration-color: #5910bd\">━</span><span style=\"color: #5417a6; text-decoration-color: #5417a6\">━</span><span style=\"color: #4e1f8d; text-decoration-color: #4e1f8d\">━</span><span style=\"color: #472873; text-decoration-color: #472873\">━</span><span style=\"color: #422f5c; text-decoration-color: #422f5c\">━</span><span style=\"color: #3d3549; text-decoration-color: #3d3549\">━</span><span style=\"color: #3a383e; text-decoration-color: #3a383e\">━</span><span style=\"color: #3a3a3a; text-decoration-color: #3a3a3a\">━</span><span style=\"color: #3a383e; text-decoration-color: #3a383e\">━</span><span style=\"color: #3d3549; text-decoration-color: #3d3549\">━</span><span style=\"color: #422f5c; text-decoration-color: #422f5c\">━</span><span style=\"color: #472873; text-decoration-color: #472873\">━</span><span style=\"color: #4e208d; text-decoration-color: #4e208d\">━</span><span style=\"color: #5417a6; text-decoration-color: #5417a6\">━</span><span style=\"color: #5910bd; text-decoration-color: #5910bd\">━</span><span style=\"color: #5e0ad0; text-decoration-color: #5e0ad0\">━</span><span style=\"color: #6107db; text-decoration-color: #6107db\">━</span><span style=\"color: #6206e0; text-decoration-color: #6206e0\">━</span><span style=\"color: #6107db; text-decoration-color: #6107db\">━</span><span style=\"color: #5e0ad0; text-decoration-color: #5e0ad0\">━</span><span style=\"color: #5910bd; text-decoration-color: #5910bd\">━</span><span style=\"color: #5417a6; text-decoration-color: #5417a6\">━</span><span style=\"color: #4e1f8d; text-decoration-color: #4e1f8d\">━</span><span style=\"color: #472873; text-decoration-color: #472873\">━</span><span style=\"color: #422f5c; text-decoration-color: #422f5c\">━</span><span style=\"color: #3d3549; text-decoration-color: #3d3549\">━</span><span style=\"color: #3a383e; text-decoration-color: #3a383e\">━</span><span style=\"color: #3a3a3a; text-decoration-color: #3a3a3a\">━</span><span style=\"color: #3a383e; text-decoration-color: #3a383e\">━</span><span style=\"color: #3d3549; text-decoration-color: #3d3549\">━</span><span style=\"color: #422f5c; text-decoration-color: #422f5c\">━</span> <span style=\"color: #c0c0c0; text-decoration-color: #c0c0c0\">119/--</span> <span style=\"color: #8a8a8a; text-decoration-color: #8a8a8a\">0:00:25 • -:--:--</span> <span style=\"color: #b2b2b2; text-decoration-color: #b2b2b2\">4.74it/s</span>  </pre>\n"
      ]
     },
     "metadata": {}
    },
    {
     "output_type": "display_data",
     "data": {
      "text/plain": [
       "\n",
       "\u001b[?25h"
      ],
      "text/html": [
       "<pre style=\"white-space:pre;overflow-x:auto;line-height:normal;font-family:Menlo,'DejaVu Sans Mono',consolas,'Courier New',monospace\">\n",
       "</pre>\n"
      ]
     },
     "metadata": {}
    }
   ],
   "metadata": {}
  },
  {
   "cell_type": "code",
   "execution_count": 10,
   "source": [
    "# import os\n",
    "# import random\n",
    "# import numpy as np\n",
    "# import matplotlib.pyplot as plt\n",
    "# from datetime import datetime\n",
    "\n",
    "# def visualize(model_module, data_module, split = \"test\", samples = 2, save_dir = None):\n",
    "#     if save_dir is not None:\n",
    "#         os.makedirs(save_dir, exist_ok = True)\n",
    "\n",
    "#     # dataset.setup()\n",
    "#     dataset = eval(f\"data_module.{split}_dataset\")\n",
    "\n",
    "#     if(type(samples) == int):\n",
    "#         idxs = random.sample(range(0, len(dataset)), samples)\n",
    "#     elif(type(samples) == list):\n",
    "#         idxs = [np.searchsorted(dataset.time, np.datetime64(datetime.strptime(dt, \"%Y-%m-%d:%H\"))) for dt in samples]\n",
    "#     else:\n",
    "#         raise Exception(\"Invalid type for samples; Allowed int or list[datetime.datetime or np.datetime64]\")\n",
    "\n",
    "#     fig, axes = plt.subplots(len(idxs), 4, figsize=(30, 3 * len(idxs)), squeeze = False)\n",
    "\n",
    "#     for index, idx in enumerate(idxs):\n",
    "#         x, y, _, _ = dataset[idx] # 1, 1, 32, 64\n",
    "#         pred = model_module.forward(x.unsqueeze(0)) # 1, 1, 32, 64\n",
    "\n",
    "#         inv_normalize = model_module.denormalization\n",
    "#         init_condition, gt = inv_normalize(x), inv_normalize(y)\n",
    "#         pred = inv_normalize(pred)\n",
    "#         bias = pred - gt\n",
    "\n",
    "#         for i, tensor in enumerate([init_condition, gt, pred, bias]):\n",
    "#             ax = axes[index][i]\n",
    "#             im = ax.imshow(tensor.detach().squeeze().cpu().numpy())\n",
    "#             im.set_cmap(cmap=plt.cm.RdBu)\n",
    "#             fig.colorbar(im, ax=ax)\n",
    "\n",
    "#         if(data_module.hparams.task == \"forecasting\"):\n",
    "#             axes[index][0].set_title(\"Initial condition [Kelvin]\")\n",
    "#             axes[index][1].set_title(\"Ground truth [Kelvin]\")\n",
    "#             axes[index][2].set_title(\"Prediction [Kelvin]\")\n",
    "#             axes[index][3].set_title(\"Bias [Kelvin]\")\n",
    "#         elif(data_module.hparams.task == \"downscaling\"):\n",
    "#             axes[index][0].set_title(\"Low resolution data [Kelvin]\")\n",
    "#             axes[index][1].set_title(\"High resolution data [Kelvin]\")\n",
    "#             axes[index][2].set_title(\"Downscaled [Kelvin]\")\n",
    "#             axes[index][3].set_title(\"Bias [Kelvin]\")\n",
    "#         else:\n",
    "#             raise NotImplementedError\n",
    "\n",
    "#     fig.tight_layout()\n",
    "    \n",
    "#     if save_dir is not None:\n",
    "#         plt.savefig(os.path.join(save_dir, 'visualize.png'))\n",
    "#     else:\n",
    "#         plt.show()\n",
    "\n",
    "# # if samples = 2, we randomly pick 2 initial conditions in the test set\n",
    "# visualize(model_module, data_module, samples = [\"2017-06-01:12\", \"2017-08-01:18\"])"
   ],
   "outputs": [],
   "metadata": {}
  },
  {
   "cell_type": "code",
   "execution_count": 1,
   "source": [
    "from src.climate_learn.utils.datetime import Year, Days, Hours\n",
    "from src.climate_learn.data import IterDataModule\n",
    "\n",
    "downscale_data_module = IterDataModule(\n",
    "    task = \"downscaling\",\n",
    "    inp_root_dir =\"/data0/datasets/weatherbench/data/weatherbench/era5/5.625deg_npz/\",\n",
    "    out_root_dir=\"/data0/datasets/weatherbench/data/weatherbench/era5/2.8125deg_npz/\",\n",
    "    in_vars = [\n",
    "        \"2m_temperature\",\n",
    "        \"10m_u_component_of_wind\",\n",
    "        \"10m_v_component_of_wind\",\n",
    "        \"geopotential_500\",\n",
    "        \"temperature_850\"\n",
    "    ],\n",
    "    out_vars = [\"2m_temperature\"],\n",
    "    batch_size = 128,\n",
    "    num_workers = 1\n",
    ")"
   ],
   "outputs": [],
   "metadata": {}
  },
  {
   "cell_type": "code",
   "execution_count": 2,
   "source": [
    "from src.climate_learn.models import load_model\n",
    "\n",
    "downscale_model_kwargs = {\n",
    "    \"in_channels\": len(downscale_data_module.hparams.in_vars),\n",
    "    \"out_channels\": len(downscale_data_module.hparams.out_vars),\n",
    "    \"n_blocks\": 4,\n",
    "}\n",
    "\n",
    "downscale_optim_kwargs = {\n",
    "    \"optimizer\": \"adamw\",\n",
    "    \"lr\": 1e-4,\n",
    "    \"weight_decay\": 1e-5,\n",
    "    \"warmup_epochs\": 1,\n",
    "    \"max_epochs\": 5,\n",
    "}\n",
    "\n",
    "downscale_model_module = load_model(name = \"resnet\", task = \"downscaling\", model_kwargs = downscale_model_kwargs, optim_kwargs = downscale_optim_kwargs)"
   ],
   "outputs": [],
   "metadata": {}
  },
  {
   "cell_type": "code",
   "execution_count": 3,
   "source": [
    "from src.climate_learn.models import set_climatology\n",
    "set_climatology(downscale_model_module, downscale_data_module)"
   ],
   "outputs": [],
   "metadata": {}
  },
  {
   "cell_type": "code",
   "execution_count": 4,
   "source": [
    "from src.climate_learn.training import Trainer, WandbLogger\n",
    "\n",
    "downscale_trainer = Trainer(\n",
    "    seed = 0,\n",
    "    accelerator = \"gpu\",\n",
    "    devices=[7],\n",
    "    precision = 16,\n",
    "    max_epochs = 1,\n",
    "    # logger = WandbLogger(project = \"climate_tutorial\", name = \"forecast-vit\")\n",
    ")"
   ],
   "outputs": [
    {
     "output_type": "stream",
     "name": "stderr",
     "text": [
      "Global seed set to 0\n"
     ]
    }
   ],
   "metadata": {}
  },
  {
   "cell_type": "code",
   "execution_count": 5,
   "source": [
    "downscale_trainer.fit(downscale_model_module, data_module=downscale_data_module)"
   ],
   "outputs": [
    {
     "output_type": "display_data",
     "data": {
      "text/plain": [
       "\r\u001b[2K\u001b[37mEpoch 0/0 \u001b[0m \u001b[38;2;78;32;141m━\u001b[0m\u001b[38;2;84;23;166m━\u001b[0m\u001b[38;2;89;16;189m━\u001b[0m\u001b[38;2;94;10;208m━\u001b[0m\u001b[38;2;97;7;219m━\u001b[0m\u001b[38;2;98;6;224m━\u001b[0m\u001b[38;2;97;7;219m━\u001b[0m\u001b[38;2;94;10;208m━\u001b[0m\u001b[38;2;89;16;189m━\u001b[0m\u001b[38;2;84;23;166m━\u001b[0m\u001b[38;2;78;31;141m━\u001b[0m\u001b[38;2;71;40;115m━\u001b[0m\u001b[38;2;66;47;92m━\u001b[0m\u001b[38;2;61;53;73m━\u001b[0m\u001b[38;2;58;56;62m━\u001b[0m\u001b[38;2;58;58;58m━\u001b[0m\u001b[38;2;58;56;62m━\u001b[0m\u001b[38;2;61;53;73m━\u001b[0m\u001b[38;2;66;47;92m━\u001b[0m\u001b[38;2;71;40;115m━\u001b[0m\u001b[38;2;78;32;141m━\u001b[0m\u001b[38;2;84;23;166m━\u001b[0m\u001b[38;2;89;16;189m━\u001b[0m\u001b[38;2;94;10;208m━\u001b[0m\u001b[38;2;97;7;219m━\u001b[0m\u001b[38;2;98;6;224m━\u001b[0m\u001b[38;2;97;7;219m━\u001b[0m\u001b[38;2;94;10;208m━\u001b[0m\u001b[38;2;89;16;189m━\u001b[0m\u001b[38;2;84;23;166m━\u001b[0m\u001b[38;2;78;31;141m━\u001b[0m\u001b[38;2;71;40;115m━\u001b[0m\u001b[38;2;66;47;92m━\u001b[0m\u001b[38;2;61;53;73m━\u001b[0m\u001b[38;2;58;56;62m━\u001b[0m\u001b[38;2;58;58;58m━\u001b[0m\u001b[38;2;58;56;62m━\u001b[0m\u001b[38;2;61;53;73m━\u001b[0m\u001b[38;2;66;47;92m━\u001b[0m\u001b[38;2;71;40;115m━\u001b[0m \u001b[37m0/--\u001b[0m \u001b[38;5;245m0:00:00 • -:--:--\u001b[0m \u001b[38;5;249m0.00it/s\u001b[0m \u001b[37mloss: nan \u001b[0m\n",
       "\u001b[37mEpoch 0/0 \u001b[0m \u001b[38;2;78;32;141m━\u001b[0m\u001b[38;2;84;23;166m━\u001b[0m\u001b[38;2;89;16;189m━\u001b[0m\u001b[38;2;94;10;208m━\u001b[0m\u001b[38;2;97;7;219m━\u001b[0m\u001b[38;2;98;6;224m━\u001b[0m\u001b[38;2;97;7;219m━\u001b[0m\u001b[38;2;94;10;208m━\u001b[0m\u001b[38;2;89;16;189m━\u001b[0m\u001b[38;2;84;23;166m━\u001b[0m\u001b[38;2;78;31;141m━\u001b[0m\u001b[38;2;71;40;115m━\u001b[0m\u001b[38;2;66;47;92m━\u001b[0m\u001b[38;2;61;53;73m━\u001b[0m\u001b[38;2;58;56;62m━\u001b[0m\u001b[38;2;58;58;58m━\u001b[0m\u001b[38;2;58;56;62m━\u001b[0m\u001b[38;2;61;53;73m━\u001b[0m\u001b[38;2;66;47;92m━\u001b[0m\u001b[38;2;71;40;115m━\u001b[0m\u001b[38;2;78;32;141m━\u001b[0m\u001b[38;2;84;23;166m━\u001b[0m\u001b[38;2;89;16;189m━\u001b[0m\u001b[38;2;94;10;208m━\u001b[0m\u001b[38;2;97;7;219m━\u001b[0m\u001b[38;2;98;6;224m━\u001b[0m\u001b[38;2;97;7;219m━\u001b[0m\u001b[38;2;94;10;208m━\u001b[0m\u001b[38;2;89;16;189m━\u001b[0m\u001b[38;2;84;23;166m━\u001b[0m\u001b[38;2;78;31;141m━\u001b[0m\u001b[38;2;71;40;115m━\u001b[0m\u001b[38;2;66;47;92m━\u001b[0m\u001b[38;2;61;53;73m━\u001b[0m\u001b[38;2;58;56;62m━\u001b[0m\u001b[38;2;58;58;58m━\u001b[0m\u001b[38;2;58;56;62m━\u001b[0m\u001b[38;2;61;53;73m━\u001b[0m\u001b[38;2;66;47;92m━\u001b[0m\u001b[38;2;71;40;115m━\u001b[0m \u001b[37m0/--\u001b[0m \u001b[38;5;245m0:00:00 • -:--:--\u001b[0m \u001b[38;5;249m0.00it/s\u001b[0m \u001b[37mloss: nan \u001b[0m"
      ],
      "text/html": [
       "<pre style=\"white-space:pre;overflow-x:auto;line-height:normal;font-family:Menlo,'DejaVu Sans Mono',consolas,'Courier New',monospace\"><span style=\"color: #c0c0c0; text-decoration-color: #c0c0c0\">Epoch 0/0 </span> <span style=\"color: #4e208d; text-decoration-color: #4e208d\">━</span><span style=\"color: #5417a6; text-decoration-color: #5417a6\">━</span><span style=\"color: #5910bd; text-decoration-color: #5910bd\">━</span><span style=\"color: #5e0ad0; text-decoration-color: #5e0ad0\">━</span><span style=\"color: #6107db; text-decoration-color: #6107db\">━</span><span style=\"color: #6206e0; text-decoration-color: #6206e0\">━</span><span style=\"color: #6107db; text-decoration-color: #6107db\">━</span><span style=\"color: #5e0ad0; text-decoration-color: #5e0ad0\">━</span><span style=\"color: #5910bd; text-decoration-color: #5910bd\">━</span><span style=\"color: #5417a6; text-decoration-color: #5417a6\">━</span><span style=\"color: #4e1f8d; text-decoration-color: #4e1f8d\">━</span><span style=\"color: #472873; text-decoration-color: #472873\">━</span><span style=\"color: #422f5c; text-decoration-color: #422f5c\">━</span><span style=\"color: #3d3549; text-decoration-color: #3d3549\">━</span><span style=\"color: #3a383e; text-decoration-color: #3a383e\">━</span><span style=\"color: #3a3a3a; text-decoration-color: #3a3a3a\">━</span><span style=\"color: #3a383e; text-decoration-color: #3a383e\">━</span><span style=\"color: #3d3549; text-decoration-color: #3d3549\">━</span><span style=\"color: #422f5c; text-decoration-color: #422f5c\">━</span><span style=\"color: #472873; text-decoration-color: #472873\">━</span><span style=\"color: #4e208d; text-decoration-color: #4e208d\">━</span><span style=\"color: #5417a6; text-decoration-color: #5417a6\">━</span><span style=\"color: #5910bd; text-decoration-color: #5910bd\">━</span><span style=\"color: #5e0ad0; text-decoration-color: #5e0ad0\">━</span><span style=\"color: #6107db; text-decoration-color: #6107db\">━</span><span style=\"color: #6206e0; text-decoration-color: #6206e0\">━</span><span style=\"color: #6107db; text-decoration-color: #6107db\">━</span><span style=\"color: #5e0ad0; text-decoration-color: #5e0ad0\">━</span><span style=\"color: #5910bd; text-decoration-color: #5910bd\">━</span><span style=\"color: #5417a6; text-decoration-color: #5417a6\">━</span><span style=\"color: #4e1f8d; text-decoration-color: #4e1f8d\">━</span><span style=\"color: #472873; text-decoration-color: #472873\">━</span><span style=\"color: #422f5c; text-decoration-color: #422f5c\">━</span><span style=\"color: #3d3549; text-decoration-color: #3d3549\">━</span><span style=\"color: #3a383e; text-decoration-color: #3a383e\">━</span><span style=\"color: #3a3a3a; text-decoration-color: #3a3a3a\">━</span><span style=\"color: #3a383e; text-decoration-color: #3a383e\">━</span><span style=\"color: #3d3549; text-decoration-color: #3d3549\">━</span><span style=\"color: #422f5c; text-decoration-color: #422f5c\">━</span><span style=\"color: #472873; text-decoration-color: #472873\">━</span> <span style=\"color: #c0c0c0; text-decoration-color: #c0c0c0\">0/--</span> <span style=\"color: #8a8a8a; text-decoration-color: #8a8a8a\">0:00:00 • -:--:--</span> <span style=\"color: #b2b2b2; text-decoration-color: #b2b2b2\">0.00it/s</span> <span style=\"color: #c0c0c0; text-decoration-color: #c0c0c0\">loss: nan </span>\n",
       "<span style=\"color: #c0c0c0; text-decoration-color: #c0c0c0\">Epoch 0/0 </span> <span style=\"color: #4e208d; text-decoration-color: #4e208d\">━</span><span style=\"color: #5417a6; text-decoration-color: #5417a6\">━</span><span style=\"color: #5910bd; text-decoration-color: #5910bd\">━</span><span style=\"color: #5e0ad0; text-decoration-color: #5e0ad0\">━</span><span style=\"color: #6107db; text-decoration-color: #6107db\">━</span><span style=\"color: #6206e0; text-decoration-color: #6206e0\">━</span><span style=\"color: #6107db; text-decoration-color: #6107db\">━</span><span style=\"color: #5e0ad0; text-decoration-color: #5e0ad0\">━</span><span style=\"color: #5910bd; text-decoration-color: #5910bd\">━</span><span style=\"color: #5417a6; text-decoration-color: #5417a6\">━</span><span style=\"color: #4e1f8d; text-decoration-color: #4e1f8d\">━</span><span style=\"color: #472873; text-decoration-color: #472873\">━</span><span style=\"color: #422f5c; text-decoration-color: #422f5c\">━</span><span style=\"color: #3d3549; text-decoration-color: #3d3549\">━</span><span style=\"color: #3a383e; text-decoration-color: #3a383e\">━</span><span style=\"color: #3a3a3a; text-decoration-color: #3a3a3a\">━</span><span style=\"color: #3a383e; text-decoration-color: #3a383e\">━</span><span style=\"color: #3d3549; text-decoration-color: #3d3549\">━</span><span style=\"color: #422f5c; text-decoration-color: #422f5c\">━</span><span style=\"color: #472873; text-decoration-color: #472873\">━</span><span style=\"color: #4e208d; text-decoration-color: #4e208d\">━</span><span style=\"color: #5417a6; text-decoration-color: #5417a6\">━</span><span style=\"color: #5910bd; text-decoration-color: #5910bd\">━</span><span style=\"color: #5e0ad0; text-decoration-color: #5e0ad0\">━</span><span style=\"color: #6107db; text-decoration-color: #6107db\">━</span><span style=\"color: #6206e0; text-decoration-color: #6206e0\">━</span><span style=\"color: #6107db; text-decoration-color: #6107db\">━</span><span style=\"color: #5e0ad0; text-decoration-color: #5e0ad0\">━</span><span style=\"color: #5910bd; text-decoration-color: #5910bd\">━</span><span style=\"color: #5417a6; text-decoration-color: #5417a6\">━</span><span style=\"color: #4e1f8d; text-decoration-color: #4e1f8d\">━</span><span style=\"color: #472873; text-decoration-color: #472873\">━</span><span style=\"color: #422f5c; text-decoration-color: #422f5c\">━</span><span style=\"color: #3d3549; text-decoration-color: #3d3549\">━</span><span style=\"color: #3a383e; text-decoration-color: #3a383e\">━</span><span style=\"color: #3a3a3a; text-decoration-color: #3a3a3a\">━</span><span style=\"color: #3a383e; text-decoration-color: #3a383e\">━</span><span style=\"color: #3d3549; text-decoration-color: #3d3549\">━</span><span style=\"color: #422f5c; text-decoration-color: #422f5c\">━</span><span style=\"color: #472873; text-decoration-color: #472873\">━</span> <span style=\"color: #c0c0c0; text-decoration-color: #c0c0c0\">0/--</span> <span style=\"color: #8a8a8a; text-decoration-color: #8a8a8a\">0:00:00 • -:--:--</span> <span style=\"color: #b2b2b2; text-decoration-color: #b2b2b2\">0.00it/s</span> <span style=\"color: #c0c0c0; text-decoration-color: #c0c0c0\">loss: nan </span></pre>\n"
      ]
     },
     "metadata": {}
    }
   ],
   "metadata": {}
  },
  {
   "cell_type": "code",
   "execution_count": null,
   "source": [],
   "outputs": [],
   "metadata": {}
  }
 ],
 "metadata": {
  "orig_nbformat": 4,
  "language_info": {
   "name": "python",
   "version": "3.10.8",
   "mimetype": "text/x-python",
   "codemirror_mode": {
    "name": "ipython",
    "version": 3
   },
   "pygments_lexer": "ipython3",
   "nbconvert_exporter": "python",
   "file_extension": ".py"
  },
  "kernelspec": {
   "name": "python3",
   "display_name": "Python 3.10.8 64-bit"
  },
  "interpreter": {
   "hash": "01d7ae94ec007e85165e08ab8d89b1cf8d99f34f2859f5001ab8d02ec992167d"
  }
 },
 "nbformat": 4,
 "nbformat_minor": 2
}