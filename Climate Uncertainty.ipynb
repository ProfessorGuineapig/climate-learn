{
 "cells": [
  {
   "cell_type": "markdown",
   "id": "e8857897-37b8-41c9-bbed-343e29ba58bb",
   "metadata": {},
   "source": [
    "The objective of this notebook is to showcase the uncertainty aspect of the ClimateLearn package."
   ]
  },
  {
   "cell_type": "code",
   "execution_count": 1,
   "id": "791bd6f2-f496-49bd-b096-f46a4b17fd73",
   "metadata": {},
   "outputs": [],
   "source": [
    "%load_ext autoreload\n",
    "%autoreload 2"
   ]
  },
  {
   "cell_type": "code",
   "execution_count": 2,
   "id": "e4eb4432-7fa5-4403-b109-4de0b7617285",
   "metadata": {},
   "outputs": [
    {
     "name": "stdout",
     "output_type": "stream",
     "text": [
      "Creating train dataset\n",
      "/data0/datasets/weatherbench/data/weatherbench/era5/5.625deg\n"
     ]
    },
    {
     "data": {
      "application/vnd.jupyter.widget-view+json": {
       "model_id": "f1ec49c351574293a5ea2af1752f14f0",
       "version_major": 2,
       "version_minor": 0
      },
      "text/plain": [
       "  0%|          | 0/1 [00:00<?, ?it/s]"
      ]
     },
     "metadata": {},
     "output_type": "display_data"
    },
    {
     "name": "stdout",
     "output_type": "stream",
     "text": [
      "Creating val dataset\n",
      "/data0/datasets/weatherbench/data/weatherbench/era5/5.625deg\n"
     ]
    },
    {
     "data": {
      "application/vnd.jupyter.widget-view+json": {
       "model_id": "50cb760131cd466e9b7e37c924032222",
       "version_major": 2,
       "version_minor": 0
      },
      "text/plain": [
       "  0%|          | 0/1 [00:00<?, ?it/s]"
      ]
     },
     "metadata": {},
     "output_type": "display_data"
    },
    {
     "name": "stdout",
     "output_type": "stream",
     "text": [
      "Creating test dataset\n",
      "/data0/datasets/weatherbench/data/weatherbench/era5/5.625deg\n"
     ]
    },
    {
     "data": {
      "application/vnd.jupyter.widget-view+json": {
       "model_id": "6b04a158842145ac90f22ae12b645764",
       "version_major": 2,
       "version_minor": 0
      },
      "text/plain": [
       "  0%|          | 0/2 [00:00<?, ?it/s]"
      ]
     },
     "metadata": {},
     "output_type": "display_data"
    }
   ],
   "source": [
    "from climate_learn.utils.datetime import Year, Days, Hours\n",
    "from climate_learn.data import DataModule\n",
    "\n",
    "data_module = DataModule(\n",
    "    dataset = \"ERA5\",\n",
    "    task = \"forecasting\",\n",
    "    root_dir = \"/data0/datasets/weatherbench/data/weatherbench/era5/5.625deg\",\n",
    "    in_vars = [\"2m_temperature\"],\n",
    "    out_vars = [\"2m_temperature\"],\n",
    "    train_start_year = Year(1979),\n",
    "    val_start_year = Year(1980),\n",
    "    test_start_year = Year(1981),\n",
    "    end_year = Year(1982),\n",
    "    history = 3,\n",
    "    window = 6,\n",
    "    pred_range = Days(3),\n",
    "    subsample = Hours(1),\n",
    "    batch_size = 128,\n",
    "    num_workers = 2\n",
    ")"
   ]
  },
  {
   "cell_type": "code",
   "execution_count": 3,
   "id": "b958c358-a8ce-4d77-91ea-2549398d0960",
   "metadata": {},
   "outputs": [],
   "source": [
    "from climate_learn.models import load_model\n",
    "\n",
    "model_kwargs = {\n",
    "    \"in_channels\": len(data_module.hparams.in_vars),\n",
    "    \"out_channels\": len(data_module.hparams.out_vars),\n",
    "    \"n_blocks\": 4,\n",
    "    \"history\": 3,\n",
    "    \"dropout\": 0.1,\n",
    "    \"prob_type\": \"parametric\"\n",
    "}\n",
    "\n",
    "optim_kwargs = {\n",
    "    \"optimizer\": \"adam\",\n",
    "    \"lr\": 5e-4,\n",
    "    \"weight_decay\": 1e-5,\n",
    "    \"warmup_epochs\": 5,\n",
    "    \"max_epochs\": 30,\n",
    "    \"warmup_start_lr\": 1e-8,\n",
    "    \"eta_min\": 1e-8\n",
    "}\n",
    "\n",
    "model_module = load_model(\n",
    "    name = \"resnet\",\n",
    "    task = \"forecasting\",\n",
    "    model_kwargs = model_kwargs,\n",
    "    optim_kwargs = optim_kwargs\n",
    ")"
   ]
  },
  {
   "cell_type": "code",
   "execution_count": 4,
   "id": "d29a1641-7f13-4229-973e-444889e29efd",
   "metadata": {},
   "outputs": [],
   "source": [
    "from climate_learn.models import set_climatology\n",
    "set_climatology(model_module, data_module)"
   ]
  },
  {
   "cell_type": "code",
   "execution_count": 5,
   "id": "49d8eb91-a1f3-46a1-935b-28742cad07cc",
   "metadata": {},
   "outputs": [],
   "source": [
    "from climate_learn.training import Trainer\n",
    "\n",
    "trainer = Trainer(\n",
    "    seed = 0,\n",
    "    accelerator = \"gpu\",\n",
    "    precision = 16,\n",
    "    max_epochs = 1\n",
    ")"
   ]
  },
  {
   "cell_type": "code",
   "execution_count": 6,
   "id": "811c617a-b5e9-4945-8a9e-51a1a69d7552",
   "metadata": {},
   "outputs": [
    {
     "name": "stderr",
     "output_type": "stream",
     "text": [
      "/home/jason.jewik/miniconda3/envs/climate/lib/python3.8/site-packages/pytorch_lightning/callbacks/model_checkpoint.py:611: UserWarning: Checkpoint directory /home/jason.jewik/climate_learn/checkpoints exists and is not empty.\n",
      "  rank_zero_warn(f\"Checkpoint directory {dirpath} exists and is not empty.\")\n"
     ]
    },
    {
     "data": {
      "text/html": [
       "<pre style=\"white-space:pre;overflow-x:auto;line-height:normal;font-family:Menlo,'DejaVu Sans Mono',consolas,'Courier New',monospace\">┏━━━━┳━━━━━━━━━━━━━━━━━━━━━━━━━━━━┳━━━━━━━━━━━━━━━━━━━┳━━━━━━━━┓\n",
       "┃<span style=\"color: #800080; text-decoration-color: #800080; font-weight: bold\">    </span>┃<span style=\"color: #800080; text-decoration-color: #800080; font-weight: bold\"> Name                       </span>┃<span style=\"color: #800080; text-decoration-color: #800080; font-weight: bold\"> Type              </span>┃<span style=\"color: #800080; text-decoration-color: #800080; font-weight: bold\"> Params </span>┃\n",
       "┡━━━━╇━━━━━━━━━━━━━━━━━━━━━━━━━━━━╇━━━━━━━━━━━━━━━━━━━╇━━━━━━━━┩\n",
       "│<span style=\"color: #7f7f7f; text-decoration-color: #7f7f7f\"> 0  </span>│ net                        │ ResNet            │  1.2 M │\n",
       "│<span style=\"color: #7f7f7f; text-decoration-color: #7f7f7f\"> 1  </span>│ net.activation             │ LeakyReLU         │      0 │\n",
       "│<span style=\"color: #7f7f7f; text-decoration-color: #7f7f7f\"> 2  </span>│ net.image_proj             │ PeriodicConv2D    │ 18.9 K │\n",
       "│<span style=\"color: #7f7f7f; text-decoration-color: #7f7f7f\"> 3  </span>│ net.image_proj.padding     │ PeriodicPadding2D │      0 │\n",
       "│<span style=\"color: #7f7f7f; text-decoration-color: #7f7f7f\"> 4  </span>│ net.image_proj.conv        │ Conv2d            │ 18.9 K │\n",
       "│<span style=\"color: #7f7f7f; text-decoration-color: #7f7f7f\"> 5  </span>│ net.blocks                 │ ModuleList        │  1.2 M │\n",
       "│<span style=\"color: #7f7f7f; text-decoration-color: #7f7f7f\"> 6  </span>│ net.blocks.0               │ ResidualBlock     │  295 K │\n",
       "│<span style=\"color: #7f7f7f; text-decoration-color: #7f7f7f\"> 7  </span>│ net.blocks.0.activation    │ LeakyReLU         │      0 │\n",
       "│<span style=\"color: #7f7f7f; text-decoration-color: #7f7f7f\"> 8  </span>│ net.blocks.0.conv1         │ PeriodicConv2D    │  147 K │\n",
       "│<span style=\"color: #7f7f7f; text-decoration-color: #7f7f7f\"> 9  </span>│ net.blocks.0.conv1.padding │ PeriodicPadding2D │      0 │\n",
       "│<span style=\"color: #7f7f7f; text-decoration-color: #7f7f7f\"> 10 </span>│ net.blocks.0.conv1.conv    │ Conv2d            │  147 K │\n",
       "│<span style=\"color: #7f7f7f; text-decoration-color: #7f7f7f\"> 11 </span>│ net.blocks.0.conv2         │ PeriodicConv2D    │  147 K │\n",
       "│<span style=\"color: #7f7f7f; text-decoration-color: #7f7f7f\"> 12 </span>│ net.blocks.0.conv2.padding │ PeriodicPadding2D │      0 │\n",
       "│<span style=\"color: #7f7f7f; text-decoration-color: #7f7f7f\"> 13 </span>│ net.blocks.0.conv2.conv    │ Conv2d            │  147 K │\n",
       "│<span style=\"color: #7f7f7f; text-decoration-color: #7f7f7f\"> 14 </span>│ net.blocks.0.shortcut      │ Identity          │      0 │\n",
       "│<span style=\"color: #7f7f7f; text-decoration-color: #7f7f7f\"> 15 </span>│ net.blocks.0.norm1         │ BatchNorm2d       │    256 │\n",
       "│<span style=\"color: #7f7f7f; text-decoration-color: #7f7f7f\"> 16 </span>│ net.blocks.0.norm2         │ BatchNorm2d       │    256 │\n",
       "│<span style=\"color: #7f7f7f; text-decoration-color: #7f7f7f\"> 17 </span>│ net.blocks.0.drop          │ Dropout           │      0 │\n",
       "│<span style=\"color: #7f7f7f; text-decoration-color: #7f7f7f\"> 18 </span>│ net.blocks.1               │ ResidualBlock     │  295 K │\n",
       "│<span style=\"color: #7f7f7f; text-decoration-color: #7f7f7f\"> 19 </span>│ net.blocks.1.activation    │ LeakyReLU         │      0 │\n",
       "│<span style=\"color: #7f7f7f; text-decoration-color: #7f7f7f\"> 20 </span>│ net.blocks.1.conv1         │ PeriodicConv2D    │  147 K │\n",
       "│<span style=\"color: #7f7f7f; text-decoration-color: #7f7f7f\"> 21 </span>│ net.blocks.1.conv1.padding │ PeriodicPadding2D │      0 │\n",
       "│<span style=\"color: #7f7f7f; text-decoration-color: #7f7f7f\"> 22 </span>│ net.blocks.1.conv1.conv    │ Conv2d            │  147 K │\n",
       "│<span style=\"color: #7f7f7f; text-decoration-color: #7f7f7f\"> 23 </span>│ net.blocks.1.conv2         │ PeriodicConv2D    │  147 K │\n",
       "│<span style=\"color: #7f7f7f; text-decoration-color: #7f7f7f\"> 24 </span>│ net.blocks.1.conv2.padding │ PeriodicPadding2D │      0 │\n",
       "│<span style=\"color: #7f7f7f; text-decoration-color: #7f7f7f\"> 25 </span>│ net.blocks.1.conv2.conv    │ Conv2d            │  147 K │\n",
       "│<span style=\"color: #7f7f7f; text-decoration-color: #7f7f7f\"> 26 </span>│ net.blocks.1.shortcut      │ Identity          │      0 │\n",
       "│<span style=\"color: #7f7f7f; text-decoration-color: #7f7f7f\"> 27 </span>│ net.blocks.1.norm1         │ BatchNorm2d       │    256 │\n",
       "│<span style=\"color: #7f7f7f; text-decoration-color: #7f7f7f\"> 28 </span>│ net.blocks.1.norm2         │ BatchNorm2d       │    256 │\n",
       "│<span style=\"color: #7f7f7f; text-decoration-color: #7f7f7f\"> 29 </span>│ net.blocks.1.drop          │ Dropout           │      0 │\n",
       "│<span style=\"color: #7f7f7f; text-decoration-color: #7f7f7f\"> 30 </span>│ net.blocks.2               │ ResidualBlock     │  295 K │\n",
       "│<span style=\"color: #7f7f7f; text-decoration-color: #7f7f7f\"> 31 </span>│ net.blocks.2.activation    │ LeakyReLU         │      0 │\n",
       "│<span style=\"color: #7f7f7f; text-decoration-color: #7f7f7f\"> 32 </span>│ net.blocks.2.conv1         │ PeriodicConv2D    │  147 K │\n",
       "│<span style=\"color: #7f7f7f; text-decoration-color: #7f7f7f\"> 33 </span>│ net.blocks.2.conv1.padding │ PeriodicPadding2D │      0 │\n",
       "│<span style=\"color: #7f7f7f; text-decoration-color: #7f7f7f\"> 34 </span>│ net.blocks.2.conv1.conv    │ Conv2d            │  147 K │\n",
       "│<span style=\"color: #7f7f7f; text-decoration-color: #7f7f7f\"> 35 </span>│ net.blocks.2.conv2         │ PeriodicConv2D    │  147 K │\n",
       "│<span style=\"color: #7f7f7f; text-decoration-color: #7f7f7f\"> 36 </span>│ net.blocks.2.conv2.padding │ PeriodicPadding2D │      0 │\n",
       "│<span style=\"color: #7f7f7f; text-decoration-color: #7f7f7f\"> 37 </span>│ net.blocks.2.conv2.conv    │ Conv2d            │  147 K │\n",
       "│<span style=\"color: #7f7f7f; text-decoration-color: #7f7f7f\"> 38 </span>│ net.blocks.2.shortcut      │ Identity          │      0 │\n",
       "│<span style=\"color: #7f7f7f; text-decoration-color: #7f7f7f\"> 39 </span>│ net.blocks.2.norm1         │ BatchNorm2d       │    256 │\n",
       "│<span style=\"color: #7f7f7f; text-decoration-color: #7f7f7f\"> 40 </span>│ net.blocks.2.norm2         │ BatchNorm2d       │    256 │\n",
       "│<span style=\"color: #7f7f7f; text-decoration-color: #7f7f7f\"> 41 </span>│ net.blocks.2.drop          │ Dropout           │      0 │\n",
       "│<span style=\"color: #7f7f7f; text-decoration-color: #7f7f7f\"> 42 </span>│ net.blocks.3               │ ResidualBlock     │  295 K │\n",
       "│<span style=\"color: #7f7f7f; text-decoration-color: #7f7f7f\"> 43 </span>│ net.blocks.3.activation    │ LeakyReLU         │      0 │\n",
       "│<span style=\"color: #7f7f7f; text-decoration-color: #7f7f7f\"> 44 </span>│ net.blocks.3.conv1         │ PeriodicConv2D    │  147 K │\n",
       "│<span style=\"color: #7f7f7f; text-decoration-color: #7f7f7f\"> 45 </span>│ net.blocks.3.conv1.padding │ PeriodicPadding2D │      0 │\n",
       "│<span style=\"color: #7f7f7f; text-decoration-color: #7f7f7f\"> 46 </span>│ net.blocks.3.conv1.conv    │ Conv2d            │  147 K │\n",
       "│<span style=\"color: #7f7f7f; text-decoration-color: #7f7f7f\"> 47 </span>│ net.blocks.3.conv2         │ PeriodicConv2D    │  147 K │\n",
       "│<span style=\"color: #7f7f7f; text-decoration-color: #7f7f7f\"> 48 </span>│ net.blocks.3.conv2.padding │ PeriodicPadding2D │      0 │\n",
       "│<span style=\"color: #7f7f7f; text-decoration-color: #7f7f7f\"> 49 </span>│ net.blocks.3.conv2.conv    │ Conv2d            │  147 K │\n",
       "│<span style=\"color: #7f7f7f; text-decoration-color: #7f7f7f\"> 50 </span>│ net.blocks.3.shortcut      │ Identity          │      0 │\n",
       "│<span style=\"color: #7f7f7f; text-decoration-color: #7f7f7f\"> 51 </span>│ net.blocks.3.norm1         │ BatchNorm2d       │    256 │\n",
       "│<span style=\"color: #7f7f7f; text-decoration-color: #7f7f7f\"> 52 </span>│ net.blocks.3.norm2         │ BatchNorm2d       │    256 │\n",
       "│<span style=\"color: #7f7f7f; text-decoration-color: #7f7f7f\"> 53 </span>│ net.blocks.3.drop          │ Dropout           │      0 │\n",
       "│<span style=\"color: #7f7f7f; text-decoration-color: #7f7f7f\"> 54 </span>│ net.norm                   │ BatchNorm2d       │    256 │\n",
       "│<span style=\"color: #7f7f7f; text-decoration-color: #7f7f7f\"> 55 </span>│ net.final                  │ PeriodicConv2D    │  6.3 K │\n",
       "│<span style=\"color: #7f7f7f; text-decoration-color: #7f7f7f\"> 56 </span>│ net.final.padding          │ PeriodicPadding2D │      0 │\n",
       "│<span style=\"color: #7f7f7f; text-decoration-color: #7f7f7f\"> 57 </span>│ net.final.conv             │ Conv2d            │  6.3 K │\n",
       "│<span style=\"color: #7f7f7f; text-decoration-color: #7f7f7f\"> 58 </span>│ net.final_std              │ PeriodicConv2D    │  6.3 K │\n",
       "│<span style=\"color: #7f7f7f; text-decoration-color: #7f7f7f\"> 59 </span>│ net.final_std.padding      │ PeriodicPadding2D │      0 │\n",
       "│<span style=\"color: #7f7f7f; text-decoration-color: #7f7f7f\"> 60 </span>│ net.final_std.conv         │ Conv2d            │  6.3 K │\n",
       "│<span style=\"color: #7f7f7f; text-decoration-color: #7f7f7f\"> 61 </span>│ denormalization            │ Normalize         │      0 │\n",
       "│<span style=\"color: #7f7f7f; text-decoration-color: #7f7f7f\"> 62 </span>│ mean_denormalize           │ Normalize         │      0 │\n",
       "│<span style=\"color: #7f7f7f; text-decoration-color: #7f7f7f\"> 63 </span>│ std_denormalize            │ Normalize         │      0 │\n",
       "└────┴────────────────────────────┴───────────────────┴────────┘\n",
       "</pre>\n"
      ],
      "text/plain": [
       "┏━━━━┳━━━━━━━━━━━━━━━━━━━━━━━━━━━━┳━━━━━━━━━━━━━━━━━━━┳━━━━━━━━┓\n",
       "┃\u001b[1;35m \u001b[0m\u001b[1;35m  \u001b[0m\u001b[1;35m \u001b[0m┃\u001b[1;35m \u001b[0m\u001b[1;35mName                      \u001b[0m\u001b[1;35m \u001b[0m┃\u001b[1;35m \u001b[0m\u001b[1;35mType             \u001b[0m\u001b[1;35m \u001b[0m┃\u001b[1;35m \u001b[0m\u001b[1;35mParams\u001b[0m\u001b[1;35m \u001b[0m┃\n",
       "┡━━━━╇━━━━━━━━━━━━━━━━━━━━━━━━━━━━╇━━━━━━━━━━━━━━━━━━━╇━━━━━━━━┩\n",
       "│\u001b[2m \u001b[0m\u001b[2m0 \u001b[0m\u001b[2m \u001b[0m│ net                        │ ResNet            │  1.2 M │\n",
       "│\u001b[2m \u001b[0m\u001b[2m1 \u001b[0m\u001b[2m \u001b[0m│ net.activation             │ LeakyReLU         │      0 │\n",
       "│\u001b[2m \u001b[0m\u001b[2m2 \u001b[0m\u001b[2m \u001b[0m│ net.image_proj             │ PeriodicConv2D    │ 18.9 K │\n",
       "│\u001b[2m \u001b[0m\u001b[2m3 \u001b[0m\u001b[2m \u001b[0m│ net.image_proj.padding     │ PeriodicPadding2D │      0 │\n",
       "│\u001b[2m \u001b[0m\u001b[2m4 \u001b[0m\u001b[2m \u001b[0m│ net.image_proj.conv        │ Conv2d            │ 18.9 K │\n",
       "│\u001b[2m \u001b[0m\u001b[2m5 \u001b[0m\u001b[2m \u001b[0m│ net.blocks                 │ ModuleList        │  1.2 M │\n",
       "│\u001b[2m \u001b[0m\u001b[2m6 \u001b[0m\u001b[2m \u001b[0m│ net.blocks.0               │ ResidualBlock     │  295 K │\n",
       "│\u001b[2m \u001b[0m\u001b[2m7 \u001b[0m\u001b[2m \u001b[0m│ net.blocks.0.activation    │ LeakyReLU         │      0 │\n",
       "│\u001b[2m \u001b[0m\u001b[2m8 \u001b[0m\u001b[2m \u001b[0m│ net.blocks.0.conv1         │ PeriodicConv2D    │  147 K │\n",
       "│\u001b[2m \u001b[0m\u001b[2m9 \u001b[0m\u001b[2m \u001b[0m│ net.blocks.0.conv1.padding │ PeriodicPadding2D │      0 │\n",
       "│\u001b[2m \u001b[0m\u001b[2m10\u001b[0m\u001b[2m \u001b[0m│ net.blocks.0.conv1.conv    │ Conv2d            │  147 K │\n",
       "│\u001b[2m \u001b[0m\u001b[2m11\u001b[0m\u001b[2m \u001b[0m│ net.blocks.0.conv2         │ PeriodicConv2D    │  147 K │\n",
       "│\u001b[2m \u001b[0m\u001b[2m12\u001b[0m\u001b[2m \u001b[0m│ net.blocks.0.conv2.padding │ PeriodicPadding2D │      0 │\n",
       "│\u001b[2m \u001b[0m\u001b[2m13\u001b[0m\u001b[2m \u001b[0m│ net.blocks.0.conv2.conv    │ Conv2d            │  147 K │\n",
       "│\u001b[2m \u001b[0m\u001b[2m14\u001b[0m\u001b[2m \u001b[0m│ net.blocks.0.shortcut      │ Identity          │      0 │\n",
       "│\u001b[2m \u001b[0m\u001b[2m15\u001b[0m\u001b[2m \u001b[0m│ net.blocks.0.norm1         │ BatchNorm2d       │    256 │\n",
       "│\u001b[2m \u001b[0m\u001b[2m16\u001b[0m\u001b[2m \u001b[0m│ net.blocks.0.norm2         │ BatchNorm2d       │    256 │\n",
       "│\u001b[2m \u001b[0m\u001b[2m17\u001b[0m\u001b[2m \u001b[0m│ net.blocks.0.drop          │ Dropout           │      0 │\n",
       "│\u001b[2m \u001b[0m\u001b[2m18\u001b[0m\u001b[2m \u001b[0m│ net.blocks.1               │ ResidualBlock     │  295 K │\n",
       "│\u001b[2m \u001b[0m\u001b[2m19\u001b[0m\u001b[2m \u001b[0m│ net.blocks.1.activation    │ LeakyReLU         │      0 │\n",
       "│\u001b[2m \u001b[0m\u001b[2m20\u001b[0m\u001b[2m \u001b[0m│ net.blocks.1.conv1         │ PeriodicConv2D    │  147 K │\n",
       "│\u001b[2m \u001b[0m\u001b[2m21\u001b[0m\u001b[2m \u001b[0m│ net.blocks.1.conv1.padding │ PeriodicPadding2D │      0 │\n",
       "│\u001b[2m \u001b[0m\u001b[2m22\u001b[0m\u001b[2m \u001b[0m│ net.blocks.1.conv1.conv    │ Conv2d            │  147 K │\n",
       "│\u001b[2m \u001b[0m\u001b[2m23\u001b[0m\u001b[2m \u001b[0m│ net.blocks.1.conv2         │ PeriodicConv2D    │  147 K │\n",
       "│\u001b[2m \u001b[0m\u001b[2m24\u001b[0m\u001b[2m \u001b[0m│ net.blocks.1.conv2.padding │ PeriodicPadding2D │      0 │\n",
       "│\u001b[2m \u001b[0m\u001b[2m25\u001b[0m\u001b[2m \u001b[0m│ net.blocks.1.conv2.conv    │ Conv2d            │  147 K │\n",
       "│\u001b[2m \u001b[0m\u001b[2m26\u001b[0m\u001b[2m \u001b[0m│ net.blocks.1.shortcut      │ Identity          │      0 │\n",
       "│\u001b[2m \u001b[0m\u001b[2m27\u001b[0m\u001b[2m \u001b[0m│ net.blocks.1.norm1         │ BatchNorm2d       │    256 │\n",
       "│\u001b[2m \u001b[0m\u001b[2m28\u001b[0m\u001b[2m \u001b[0m│ net.blocks.1.norm2         │ BatchNorm2d       │    256 │\n",
       "│\u001b[2m \u001b[0m\u001b[2m29\u001b[0m\u001b[2m \u001b[0m│ net.blocks.1.drop          │ Dropout           │      0 │\n",
       "│\u001b[2m \u001b[0m\u001b[2m30\u001b[0m\u001b[2m \u001b[0m│ net.blocks.2               │ ResidualBlock     │  295 K │\n",
       "│\u001b[2m \u001b[0m\u001b[2m31\u001b[0m\u001b[2m \u001b[0m│ net.blocks.2.activation    │ LeakyReLU         │      0 │\n",
       "│\u001b[2m \u001b[0m\u001b[2m32\u001b[0m\u001b[2m \u001b[0m│ net.blocks.2.conv1         │ PeriodicConv2D    │  147 K │\n",
       "│\u001b[2m \u001b[0m\u001b[2m33\u001b[0m\u001b[2m \u001b[0m│ net.blocks.2.conv1.padding │ PeriodicPadding2D │      0 │\n",
       "│\u001b[2m \u001b[0m\u001b[2m34\u001b[0m\u001b[2m \u001b[0m│ net.blocks.2.conv1.conv    │ Conv2d            │  147 K │\n",
       "│\u001b[2m \u001b[0m\u001b[2m35\u001b[0m\u001b[2m \u001b[0m│ net.blocks.2.conv2         │ PeriodicConv2D    │  147 K │\n",
       "│\u001b[2m \u001b[0m\u001b[2m36\u001b[0m\u001b[2m \u001b[0m│ net.blocks.2.conv2.padding │ PeriodicPadding2D │      0 │\n",
       "│\u001b[2m \u001b[0m\u001b[2m37\u001b[0m\u001b[2m \u001b[0m│ net.blocks.2.conv2.conv    │ Conv2d            │  147 K │\n",
       "│\u001b[2m \u001b[0m\u001b[2m38\u001b[0m\u001b[2m \u001b[0m│ net.blocks.2.shortcut      │ Identity          │      0 │\n",
       "│\u001b[2m \u001b[0m\u001b[2m39\u001b[0m\u001b[2m \u001b[0m│ net.blocks.2.norm1         │ BatchNorm2d       │    256 │\n",
       "│\u001b[2m \u001b[0m\u001b[2m40\u001b[0m\u001b[2m \u001b[0m│ net.blocks.2.norm2         │ BatchNorm2d       │    256 │\n",
       "│\u001b[2m \u001b[0m\u001b[2m41\u001b[0m\u001b[2m \u001b[0m│ net.blocks.2.drop          │ Dropout           │      0 │\n",
       "│\u001b[2m \u001b[0m\u001b[2m42\u001b[0m\u001b[2m \u001b[0m│ net.blocks.3               │ ResidualBlock     │  295 K │\n",
       "│\u001b[2m \u001b[0m\u001b[2m43\u001b[0m\u001b[2m \u001b[0m│ net.blocks.3.activation    │ LeakyReLU         │      0 │\n",
       "│\u001b[2m \u001b[0m\u001b[2m44\u001b[0m\u001b[2m \u001b[0m│ net.blocks.3.conv1         │ PeriodicConv2D    │  147 K │\n",
       "│\u001b[2m \u001b[0m\u001b[2m45\u001b[0m\u001b[2m \u001b[0m│ net.blocks.3.conv1.padding │ PeriodicPadding2D │      0 │\n",
       "│\u001b[2m \u001b[0m\u001b[2m46\u001b[0m\u001b[2m \u001b[0m│ net.blocks.3.conv1.conv    │ Conv2d            │  147 K │\n",
       "│\u001b[2m \u001b[0m\u001b[2m47\u001b[0m\u001b[2m \u001b[0m│ net.blocks.3.conv2         │ PeriodicConv2D    │  147 K │\n",
       "│\u001b[2m \u001b[0m\u001b[2m48\u001b[0m\u001b[2m \u001b[0m│ net.blocks.3.conv2.padding │ PeriodicPadding2D │      0 │\n",
       "│\u001b[2m \u001b[0m\u001b[2m49\u001b[0m\u001b[2m \u001b[0m│ net.blocks.3.conv2.conv    │ Conv2d            │  147 K │\n",
       "│\u001b[2m \u001b[0m\u001b[2m50\u001b[0m\u001b[2m \u001b[0m│ net.blocks.3.shortcut      │ Identity          │      0 │\n",
       "│\u001b[2m \u001b[0m\u001b[2m51\u001b[0m\u001b[2m \u001b[0m│ net.blocks.3.norm1         │ BatchNorm2d       │    256 │\n",
       "│\u001b[2m \u001b[0m\u001b[2m52\u001b[0m\u001b[2m \u001b[0m│ net.blocks.3.norm2         │ BatchNorm2d       │    256 │\n",
       "│\u001b[2m \u001b[0m\u001b[2m53\u001b[0m\u001b[2m \u001b[0m│ net.blocks.3.drop          │ Dropout           │      0 │\n",
       "│\u001b[2m \u001b[0m\u001b[2m54\u001b[0m\u001b[2m \u001b[0m│ net.norm                   │ BatchNorm2d       │    256 │\n",
       "│\u001b[2m \u001b[0m\u001b[2m55\u001b[0m\u001b[2m \u001b[0m│ net.final                  │ PeriodicConv2D    │  6.3 K │\n",
       "│\u001b[2m \u001b[0m\u001b[2m56\u001b[0m\u001b[2m \u001b[0m│ net.final.padding          │ PeriodicPadding2D │      0 │\n",
       "│\u001b[2m \u001b[0m\u001b[2m57\u001b[0m\u001b[2m \u001b[0m│ net.final.conv             │ Conv2d            │  6.3 K │\n",
       "│\u001b[2m \u001b[0m\u001b[2m58\u001b[0m\u001b[2m \u001b[0m│ net.final_std              │ PeriodicConv2D    │  6.3 K │\n",
       "│\u001b[2m \u001b[0m\u001b[2m59\u001b[0m\u001b[2m \u001b[0m│ net.final_std.padding      │ PeriodicPadding2D │      0 │\n",
       "│\u001b[2m \u001b[0m\u001b[2m60\u001b[0m\u001b[2m \u001b[0m│ net.final_std.conv         │ Conv2d            │  6.3 K │\n",
       "│\u001b[2m \u001b[0m\u001b[2m61\u001b[0m\u001b[2m \u001b[0m│ denormalization            │ Normalize         │      0 │\n",
       "│\u001b[2m \u001b[0m\u001b[2m62\u001b[0m\u001b[2m \u001b[0m│ mean_denormalize           │ Normalize         │      0 │\n",
       "│\u001b[2m \u001b[0m\u001b[2m63\u001b[0m\u001b[2m \u001b[0m│ std_denormalize            │ Normalize         │      0 │\n",
       "└────┴────────────────────────────┴───────────────────┴────────┘\n"
      ]
     },
     "metadata": {},
     "output_type": "display_data"
    },
    {
     "data": {
      "text/html": [
       "<pre style=\"white-space:pre;overflow-x:auto;line-height:normal;font-family:Menlo,'DejaVu Sans Mono',consolas,'Courier New',monospace\"><span style=\"font-weight: bold\">Trainable params</span>: 1.2 M                                                                      \n",
       "<span style=\"font-weight: bold\">Non-trainable params</span>: 0                                                                      \n",
       "<span style=\"font-weight: bold\">Total params</span>: 1.2 M                                                                          \n",
       "<span style=\"font-weight: bold\">Total estimated model params size (MB)</span>: 2                                                    \n",
       "</pre>\n"
      ],
      "text/plain": [
       "\u001b[1mTrainable params\u001b[0m: 1.2 M                                                                      \n",
       "\u001b[1mNon-trainable params\u001b[0m: 0                                                                      \n",
       "\u001b[1mTotal params\u001b[0m: 1.2 M                                                                          \n",
       "\u001b[1mTotal estimated model params size (MB)\u001b[0m: 2                                                    \n"
      ]
     },
     "metadata": {},
     "output_type": "display_data"
    },
    {
     "data": {
      "application/vnd.jupyter.widget-view+json": {
       "model_id": "8da31b460e004cb68db07196e5b379ac",
       "version_major": 2,
       "version_minor": 0
      },
      "text/plain": [
       "Output()"
      ]
     },
     "metadata": {},
     "output_type": "display_data"
    },
    {
     "data": {
      "text/html": [
       "<pre style=\"white-space:pre;overflow-x:auto;line-height:normal;font-family:Menlo,'DejaVu Sans Mono',consolas,'Courier New',monospace\">/home/jason.jewik/miniconda3/envs/climate/lib/python3.8/site-packages/pytorch_lightning/train\n",
       "er/connectors/data_connector.py:240: PossibleUserWarning: The dataloader, val_dataloader 0, \n",
       "does not have many workers which may be a bottleneck. Consider increasing the value of the \n",
       "`num_workers` argument` (try 64 which is the number of cpus on this machine) in the \n",
       "`DataLoader` init to improve performance.\n",
       "  rank_zero_warn(\n",
       "</pre>\n"
      ],
      "text/plain": [
       "/home/jason.jewik/miniconda3/envs/climate/lib/python3.8/site-packages/pytorch_lightning/train\n",
       "er/connectors/data_connector.py:240: PossibleUserWarning: The dataloader, val_dataloader 0, \n",
       "does not have many workers which may be a bottleneck. Consider increasing the value of the \n",
       "`num_workers` argument` (try 64 which is the number of cpus on this machine) in the \n",
       "`DataLoader` init to improve performance.\n",
       "  rank_zero_warn(\n"
      ]
     },
     "metadata": {},
     "output_type": "display_data"
    },
    {
     "data": {
      "text/html": [
       "<pre style=\"white-space:pre;overflow-x:auto;line-height:normal;font-family:Menlo,'DejaVu Sans Mono',consolas,'Courier New',monospace\">/home/jason.jewik/miniconda3/envs/climate/lib/python3.8/site-packages/pytorch_lightning/train\n",
       "er/connectors/data_connector.py:240: PossibleUserWarning: The dataloader, train_dataloader, \n",
       "does not have many workers which may be a bottleneck. Consider increasing the value of the \n",
       "`num_workers` argument` (try 64 which is the number of cpus on this machine) in the \n",
       "`DataLoader` init to improve performance.\n",
       "  rank_zero_warn(\n",
       "</pre>\n"
      ],
      "text/plain": [
       "/home/jason.jewik/miniconda3/envs/climate/lib/python3.8/site-packages/pytorch_lightning/train\n",
       "er/connectors/data_connector.py:240: PossibleUserWarning: The dataloader, train_dataloader, \n",
       "does not have many workers which may be a bottleneck. Consider increasing the value of the \n",
       "`num_workers` argument` (try 64 which is the number of cpus on this machine) in the \n",
       "`DataLoader` init to improve performance.\n",
       "  rank_zero_warn(\n"
      ]
     },
     "metadata": {},
     "output_type": "display_data"
    },
    {
     "data": {
      "text/html": [
       "<pre style=\"white-space:pre;overflow-x:auto;line-height:normal;font-family:Menlo,'DejaVu Sans Mono',consolas,'Courier New',monospace\"></pre>\n"
      ],
      "text/plain": []
     },
     "metadata": {},
     "output_type": "display_data"
    },
    {
     "data": {
      "text/html": [
       "<pre style=\"white-space:pre;overflow-x:auto;line-height:normal;font-family:Menlo,'DejaVu Sans Mono',consolas,'Courier New',monospace\">\n",
       "</pre>\n"
      ],
      "text/plain": [
       "\n"
      ]
     },
     "metadata": {},
     "output_type": "display_data"
    }
   ],
   "source": [
    "trainer.fit(model_module, data_module)"
   ]
  },
  {
   "cell_type": "code",
   "execution_count": 7,
   "id": "a469d17c-3061-4455-bf66-150eaf78a6af",
   "metadata": {},
   "outputs": [
    {
     "data": {
      "application/vnd.jupyter.widget-view+json": {
       "model_id": "b1760b5ddac3458884151f704aa71b78",
       "version_major": 2,
       "version_minor": 0
      },
      "text/plain": [
       "Output()"
      ]
     },
     "metadata": {},
     "output_type": "display_data"
    },
    {
     "name": "stderr",
     "output_type": "stream",
     "text": [
      "/home/jason.jewik/miniconda3/envs/climate/lib/python3.8/site-packages/pytorch_lightning/trainer/connectors/data_connector.py:240: PossibleUserWarning: The dataloader, test_dataloader 0, does not have many workers which may be a bottleneck. Consider increasing the value of the `num_workers` argument` (try 64 which is the number of cpus on this machine) in the `DataLoader` init to improve performance.\n",
      "  rank_zero_warn(\n"
     ]
    },
    {
     "data": {
      "text/html": [
       "<pre style=\"white-space:pre;overflow-x:auto;line-height:normal;font-family:Menlo,'DejaVu Sans Mono',consolas,'Courier New',monospace\">┏━━━━━━━━━━━━━━━━━━━━━━━━━━━━━━━━━━━━━━━━━━━━━┳━━━━━━━━━━━━━━━━━━━━━━━━━━━━━━━━━━━━━━━━━━━━━┓\n",
       "┃<span style=\"font-weight: bold\">                 Test metric                 </span>┃<span style=\"font-weight: bold\">                DataLoader 0                 </span>┃\n",
       "┡━━━━━━━━━━━━━━━━━━━━━━━━━━━━━━━━━━━━━━━━━━━━━╇━━━━━━━━━━━━━━━━━━━━━━━━━━━━━━━━━━━━━━━━━━━━━┩\n",
       "│<span style=\"color: #008080; text-decoration-color: #008080\">        test/acc_2m_temperature_day_3        </span>│<span style=\"color: #800080; text-decoration-color: #800080\">            -0.025567482669740012            </span>│\n",
       "│<span style=\"color: #008080; text-decoration-color: #008080\">      test/w_rmse_2m_temperature_day_3       </span>│<span style=\"color: #800080; text-decoration-color: #800080\">              287.451417920544               </span>│\n",
       "│<span style=\"color: #008080; text-decoration-color: #008080\"> test_climatology_baseline/w_rmse_2m_temper… </span>│<span style=\"color: #800080; text-decoration-color: #800080\">              5.891154447057514              </span>│\n",
       "└─────────────────────────────────────────────┴─────────────────────────────────────────────┘\n",
       "</pre>\n"
      ],
      "text/plain": [
       "┏━━━━━━━━━━━━━━━━━━━━━━━━━━━━━━━━━━━━━━━━━━━━━┳━━━━━━━━━━━━━━━━━━━━━━━━━━━━━━━━━━━━━━━━━━━━━┓\n",
       "┃\u001b[1m \u001b[0m\u001b[1m                Test metric                \u001b[0m\u001b[1m \u001b[0m┃\u001b[1m \u001b[0m\u001b[1m               DataLoader 0                \u001b[0m\u001b[1m \u001b[0m┃\n",
       "┡━━━━━━━━━━━━━━━━━━━━━━━━━━━━━━━━━━━━━━━━━━━━━╇━━━━━━━━━━━━━━━━━━━━━━━━━━━━━━━━━━━━━━━━━━━━━┩\n",
       "│\u001b[36m \u001b[0m\u001b[36m       test/acc_2m_temperature_day_3       \u001b[0m\u001b[36m \u001b[0m│\u001b[35m \u001b[0m\u001b[35m           -0.025567482669740012           \u001b[0m\u001b[35m \u001b[0m│\n",
       "│\u001b[36m \u001b[0m\u001b[36m     test/w_rmse_2m_temperature_day_3      \u001b[0m\u001b[36m \u001b[0m│\u001b[35m \u001b[0m\u001b[35m             287.451417920544              \u001b[0m\u001b[35m \u001b[0m│\n",
       "│\u001b[36m \u001b[0m\u001b[36mtest_climatology_baseline/w_rmse_2m_temper…\u001b[0m\u001b[36m \u001b[0m│\u001b[35m \u001b[0m\u001b[35m             5.891154447057514             \u001b[0m\u001b[35m \u001b[0m│\n",
       "└─────────────────────────────────────────────┴─────────────────────────────────────────────┘\n"
      ]
     },
     "metadata": {},
     "output_type": "display_data"
    },
    {
     "data": {
      "text/html": [
       "<pre style=\"white-space:pre;overflow-x:auto;line-height:normal;font-family:Menlo,'DejaVu Sans Mono',consolas,'Courier New',monospace\"></pre>\n"
      ],
      "text/plain": []
     },
     "metadata": {},
     "output_type": "display_data"
    },
    {
     "data": {
      "text/html": [
       "<pre style=\"white-space:pre;overflow-x:auto;line-height:normal;font-family:Menlo,'DejaVu Sans Mono',consolas,'Courier New',monospace\">\n",
       "</pre>\n"
      ],
      "text/plain": [
       "\n"
      ]
     },
     "metadata": {},
     "output_type": "display_data"
    }
   ],
   "source": [
    "trainer.test(model_module, data_module)"
   ]
  },
  {
   "cell_type": "code",
   "execution_count": null,
   "id": "eab70da4-b728-4834-a85a-d798b5baf117",
   "metadata": {},
   "outputs": [],
   "source": []
  }
 ],
 "metadata": {
  "kernelspec": {
   "display_name": "climate",
   "language": "python",
   "name": "climate"
  },
  "language_info": {
   "codemirror_mode": {
    "name": "ipython",
    "version": 3
   },
   "file_extension": ".py",
   "mimetype": "text/x-python",
   "name": "python",
   "nbconvert_exporter": "python",
   "pygments_lexer": "ipython3",
   "version": "3.8.13"
  }
 },
 "nbformat": 4,
 "nbformat_minor": 5
}
